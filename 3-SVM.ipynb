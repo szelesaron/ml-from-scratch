{
 "cells": [
  {
   "cell_type": "markdown",
   "metadata": {},
   "source": [
    "# Setup "
   ]
  },
  {
   "cell_type": "code",
   "execution_count": 1,
   "metadata": {},
   "outputs": [],
   "source": [
    "import numpy as np\n",
    "import matplotlib.pyplot as plt\n",
    "from sklearn import datasets\n",
    "iris = datasets.load_iris()"
   ]
  },
  {
   "cell_type": "code",
   "execution_count": 2,
   "metadata": {},
   "outputs": [],
   "source": [
    "X = iris.data[:, :2]\n",
    "y = iris.target\n",
    "y[y==0] = -1\n",
    "y[y==2] = 1\n",
    "y[y==1] = 1    #making in binary class + fitting for svm\n"
   ]
  },
  {
   "cell_type": "code",
   "execution_count": 3,
   "metadata": {},
   "outputs": [
    {
     "data": {
      "image/png": "[encoded data removed]",
      "text/plain": [
       "<Figure size 432x288 with 1 Axes>"
      ]
     },
     "metadata": {
      "needs_background": "light"
     },
     "output_type": "display_data"
    }
   ],
   "source": [
    "plt.scatter(X[:,0][y==-1], X[:,1][y==-1])\n",
    "plt.scatter(X[:,0][y==1], X[:,1][y==1])\n",
    "plt.xlabel(\"Sepal length\")\n",
    "plt.ylabel(\"Sepal width\")\n",
    "plt.legend([\"setosa\",\"not setosa\"])\n",
    "plt.show()"
   ]
  },
  {
   "cell_type": "markdown",
   "metadata": {},
   "source": [
    "# Support Vector Machine "
   ]
  },
  {
   "cell_type": "markdown",
   "metadata": {},
   "source": [
    "Maximize margin between classes. "
   ]
  },
  {
   "cell_type": "markdown",
   "metadata": {},
   "source": [
    "Hinge loss\n",
    "\n",
    "$$\n",
    "\\ cond = (wX - b)y >=1 \\\\\n",
    "$$\n",
    "\n",
    "\n",
    "                                                        If cond is true\n",
    "$$\n",
    "L = 0\n",
    "$$\n",
    "\n",
    "                                                        If cond is false\n",
    "\n",
    "$$\n",
    "L = 1 - (wX - b)y\n",
    "$$"
   ]
  },
  {
   "cell_type": "markdown",
   "metadata": {},
   "source": [
    "Cost function\n",
    "\n",
    "$$\n",
    "J = ||w||^{2} + \\frac{1}{m}\\sum_{i = 1}^{i = m}\\max(0,1-(wx_{i}-b)y_{i})\\\\\n",
    "$$\n",
    "\n",
    "                                                        If cond is true\n",
    "$$\n",
    "J_{i} = ||w||^{2} \n",
    "$$\n",
    "\n",
    "                                                        If cond is false\n",
    "                                                        \n",
    "$$\n",
    "J_{i} = ||w||^{2} + 1 - (wx_{i} - b)y_{i}\n",
    "$$\n"
   ]
  },
  {
   "cell_type": "markdown",
   "metadata": {},
   "source": [
    "Gradients\n",
    "\n",
    "                                                        If cond is true\n",
    "$$\n",
    "\\frac{\\partial}{\\partial w} = 2w \\\\\n",
    "\\frac{\\partial}{\\partial b} = 0 \\\\\n",
    "$$\n",
    "\n",
    "                                                        If cond is false\n",
    "$$\n",
    "\\frac{\\partial}{\\partial w} = 2w - x_{i}y_{i} \\\\\n",
    "\\frac{\\partial}{\\partial b} = y_{i} \\\\\n",
    "$$"
   ]
  },
  {
   "cell_type": "markdown",
   "metadata": {},
   "source": [
    "Step function\n",
    "\n",
    "                                                        If cond it true\n",
    "$$\n",
    "w = w - \\alpha * \\frac{\\partial}{\\partial w}\n",
    "$$\n",
    "  \n",
    "                                                        If cond it false\n",
    "$$\n",
    "w = w - \\alpha * \\frac{\\partial}{\\partial w}\\\\\n",
    "b = b - \\alpha * \\frac{\\partial}{\\partial b}\n",
    "$$"
   ]
  },
  {
   "cell_type": "code",
   "execution_count": 91,
   "metadata": {},
   "outputs": [],
   "source": [
    "w = np.zeros(len(X[0]))\n",
    "alpha = 0.01\n",
    "epochs = 10000\n",
    "b = 0\n",
    "\n",
    "\n",
    "for epoch in range(1,epochs):\n",
    "    for i, x in enumerate(X):\n",
    "        cond = y[i] * (np.dot(x, w) -b) >= 1\n",
    "        if cond:\n",
    "            w = w - alpha * (2*w)\n",
    "        else:\n",
    "            w = w - alpha * (2*w - np.dot(x,y[i]))\n",
    "            b = b - alpha * (y[i])\n",
    "\n"
   ]
  },
  {
   "cell_type": "code",
   "execution_count": 92,
   "metadata": {},
   "outputs": [
    {
     "data": {
      "text/plain": [
       "(array([0.26125639, 0.16487293]), -0.5800000000000003)"
      ]
     },
     "execution_count": 92,
     "metadata": {},
     "output_type": "execute_result"
    }
   ],
   "source": [
    "w, b"
   ]
  },
  {
   "cell_type": "code",
   "execution_count": 93,
   "metadata": {},
   "outputs": [],
   "source": [
    "def predict(X):\n",
    "    return np.sign(np.dot(X,w) - b)"
   ]
  },
  {
   "cell_type": "code",
   "execution_count": 94,
   "metadata": {},
   "outputs": [],
   "source": [
    "from sklearn import datasets\n",
    "import matplotlib.pyplot as plt\n",
    "\n",
    "X, y = datasets.make_blobs(\n",
    "    n_samples=50, n_features=2, centers=2, cluster_std=1.05, random_state=40\n",
    ")\n",
    "y = np.where(y == 0, -1, 1)"
   ]
  },
  {
   "cell_type": "code",
   "execution_count": 95,
   "metadata": {},
   "outputs": [
    {
     "data": {
      "text/plain": [
       "array([ 1.,  1., -1.,  1., -1., -1.,  1., -1.,  1., -1.,  1.,  1., -1.,\n",
       "        1.,  1.,  1.,  1.,  1.,  1.,  1., -1., -1., -1., -1., -1., -1.,\n",
       "       -1., -1., -1., -1.,  1.,  1., -1., -1.,  1., -1.,  1., -1.,  1.,\n",
       "        1., -1., -1.,  1.,  1.,  1., -1., -1.,  1.,  1., -1.])"
      ]
     },
     "execution_count": 95,
     "metadata": {},
     "output_type": "execute_result"
    }
   ],
   "source": [
    "predict(X)"
   ]
  },
  {
   "cell_type": "code",
   "execution_count": 96,
   "metadata": {},
   "outputs": [
    {
     "data": {
      "text/plain": [
       "array([ 1,  1, -1,  1, -1, -1,  1, -1,  1, -1,  1,  1, -1,  1,  1,  1,  1,\n",
       "        1,  1,  1, -1, -1, -1, -1, -1, -1, -1, -1, -1, -1,  1,  1, -1, -1,\n",
       "        1, -1,  1, -1,  1,  1, -1, -1,  1,  1,  1, -1, -1,  1,  1, -1])"
      ]
     },
     "execution_count": 96,
     "metadata": {},
     "output_type": "execute_result"
    }
   ],
   "source": [
    "y"
   ]
  },
  {
   "cell_type": "code",
   "execution_count": null,
   "metadata": {},
   "outputs": [],
   "source": []
  },
  {
   "cell_type": "code",
   "execution_count": 97,
   "metadata": {},
   "outputs": [],
   "source": [
    "def get_hyperplane_value(x, w, b, offset):\n",
    "    return (-w[0] * x + b + offset) / w[1]"
   ]
  },
  {
   "cell_type": "code",
   "execution_count": 98,
   "metadata": {},
   "outputs": [
    {
     "data": {
      "image/png": "[encoded data removed]",
      "text/plain": [
       "<Figure size 432x288 with 1 Axes>"
      ]
     },
     "metadata": {
      "needs_background": "light"
     },
     "output_type": "display_data"
    }
   ],
   "source": [
    "fig = plt.figure()\n",
    "ax = fig.add_subplot(1, 1, 1)\n",
    "plt.scatter(X[:, 0], X[:, 1], marker=\"o\", c=y)\n",
    "\n",
    "x0_1 = np.amin(X[:, 0])\n",
    "x0_2 = np.amax(X[:, 0])\n",
    "\n",
    "x1_1 = get_hyperplane_value(x0_1, w, b, 0)\n",
    "x1_2 = get_hyperplane_value(x0_2, w, b, 0)\n",
    "\n",
    "x1_1_m = get_hyperplane_value(x0_1, w, b, -1)\n",
    "x1_2_m = get_hyperplane_value(x0_2, w, b, -1)\n",
    "\n",
    "x1_1_p = get_hyperplane_value(x0_1, w, b, 1)\n",
    "x1_2_p = get_hyperplane_value(x0_2, w, b, 1)\n",
    "\n",
    "ax.plot([x0_1, x0_2], [x1_1, x1_2], \"y--\")\n",
    "ax.plot([x0_1, x0_2], [x1_1_m, x1_2_m], \"k\")\n",
    "ax.plot([x0_1, x0_2], [x1_1_p, x1_2_p], \"k\")\n",
    "\n",
    "x1_min = np.amin(X[:, 1])\n",
    "x1_max = np.amax(X[:, 1])\n",
    "ax.set_ylim([x1_min - 3, x1_max + 3])\n",
    "\n",
    "plt.show()"
   ]
  },
  {
   "cell_type": "code",
   "execution_count": null,
   "metadata": {},
   "outputs": [],
   "source": []
  }
 ],
 "metadata": {
  "kernelspec": {
   "display_name": "Python 3",
   "language": "python",
   "name": "python3"
  },
  "language_info": {
   "codemirror_mode": {
    "name": "ipython",
    "version": 3
   },
   "file_extension": ".py",
   "mimetype": "text/x-python",
   "name": "python",
   "nbconvert_exporter": "python",
   "pygments_lexer": "ipython3",
   "version": "3.8.5"
  }
 },
 "nbformat": 4,
 "nbformat_minor": 4
}
