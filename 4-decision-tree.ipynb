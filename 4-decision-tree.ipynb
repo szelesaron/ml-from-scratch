{
 "cells": [
  {
   "cell_type": "markdown",
   "metadata": {},
   "source": [
    "# Setup "
   ]
  },
  {
   "cell_type": "code",
   "execution_count": 81,
   "metadata": {},
   "outputs": [],
   "source": [
    "import numpy as np\n",
    "import matplotlib.pyplot as plt\n",
    "from sklearn import datasets\n",
    "import pandas as pd\n",
    "%matplotlib inline"
   ]
  },
  {
   "cell_type": "code",
   "execution_count": 133,
   "metadata": {},
   "outputs": [],
   "source": [
    "X, y = datasets.make_blobs(n_samples = 100, n_features = 2, random_state = 10)\n",
    "y[y==2] = 1 #binary dataset"
   ]
  },
  {
   "cell_type": "code",
   "execution_count": 134,
   "metadata": {},
   "outputs": [
    {
     "data": {
      "image/png": "[encoded data removed]",
      "text/plain": [
       "<Figure size 432x288 with 1 Axes>"
      ]
     },
     "metadata": {
      "needs_background": "light"
     },
     "output_type": "display_data"
    }
   ],
   "source": [
    "plt.scatter(X[:,0], X[:,1], c = y)\n",
    "plt.show()"
   ]
  },
  {
   "cell_type": "markdown",
   "metadata": {},
   "source": [
    "# Decision tree "
   ]
  },
  {
   "cell_type": "markdown",
   "metadata": {},
   "source": [
    "Splitting the training set in a way that produces the purest subsets."
   ]
  },
  {
   "cell_type": "markdown",
   "metadata": {},
   "source": [
    "Gini impurity\n",
    "\n",
    "$$\n",
    "G_{i} = 1 - \\sum_{k=1}^{m} p_{i,k}^{2}\n",
    "$$"
   ]
  },
  {
   "cell_type": "code",
   "execution_count": 135,
   "metadata": {},
   "outputs": [],
   "source": [
    "def gini(y):\n",
    "    dist = (np.bincount(y) / len(y)) ** 2\n",
    "    return 1 - sum(dist)"
   ]
  },
  {
   "cell_type": "code",
   "execution_count": 136,
   "metadata": {},
   "outputs": [
    {
     "data": {
      "text/plain": [
       "0.75"
      ]
     },
     "execution_count": 136,
     "metadata": {},
     "output_type": "execute_result"
    }
   ],
   "source": [
    "a = np.array([0,1,2,3])\n",
    "gini(a)"
   ]
  },
  {
   "cell_type": "code",
   "execution_count": 137,
   "metadata": {},
   "outputs": [],
   "source": [
    "data = np.c_[X,y]"
   ]
  },
  {
   "cell_type": "code",
   "execution_count": 138,
   "metadata": {
    "scrolled": true
   },
   "outputs": [
    {
     "data": {
      "text/plain": [
       "array([[ -2.32496308,  -6.6999964 ,   1.        ],\n",
       "       [  0.51856831,  -4.90086804,   1.        ],\n",
       "       [  2.44301805,   3.84652646,   1.        ],\n",
       "       [  5.82662285,  -9.92259335,   0.        ],\n",
       "       [  2.03300209,   5.28990817,   1.        ],\n",
       "       [  3.37979515,   4.18880872,   1.        ],\n",
       "       [  6.04774884, -10.30504657,   0.        ],\n",
       "       [ -0.42084194,  -4.24889336,   1.        ],\n",
       "       [  3.78067293,   5.22062163,   1.        ],\n",
       "       [  5.69248303,  -7.19999368,   0.        ],\n",
       "       [  5.15909568, -10.13427003,   0.        ],\n",
       "       [  1.16464321,   5.59667831,   1.        ],\n",
       "       [  2.94601402,   3.3575069 ,   1.        ],\n",
       "       [  1.1882891 ,  -5.56058781,   1.        ],\n",
       "       [ -0.31748917,  -6.86337766,   1.        ],\n",
       "       [  4.32968132,   5.64396726,   1.        ],\n",
       "       [  4.28981065,  -9.44982413,   0.        ],\n",
       "       [  3.49996332,   3.02156553,   1.        ],\n",
       "       [  5.31414039,  -9.94714146,   0.        ],\n",
       "       [  2.61105267,   4.22218469,   1.        ],\n",
       "       [  4.88653379,  -8.87680099,   0.        ],\n",
       "       [  1.95552599,  -4.05690149,   1.        ],\n",
       "       [  2.09985134,   3.6556301 ,   1.        ],\n",
       "       [  1.31468967,  -5.01055177,   1.        ],\n",
       "       [  5.52556208,  -8.18696464,   0.        ],\n",
       "       [  0.81677922,   4.75330395,   1.        ],\n",
       "       [  2.52859794,   4.5759393 ,   1.        ],\n",
       "       [  3.69548081,   5.14288792,   1.        ],\n",
       "       [  2.37698085,   5.82428626,   1.        ],\n",
       "       [  5.69192445,  -9.47641249,   0.        ],\n",
       "       [  0.91726632,  -6.52637778,   1.        ],\n",
       "       [  1.44712872,   4.75428451,   1.        ],\n",
       "       [  2.96590542,   4.5052704 ,   1.        ],\n",
       "       [  6.68288513, -10.31693051,   0.        ],\n",
       "       [ -0.43558928,  -4.7222919 ,   1.        ],\n",
       "       [  0.34789333,  -3.88965912,   1.        ],\n",
       "       [  0.97700138,  -5.7984931 ,   1.        ],\n",
       "       [  2.45717481,   5.96515011,   1.        ],\n",
       "       [  2.60711685,   2.84436554,   1.        ],\n",
       "       [  2.89022984,   2.98168388,   1.        ],\n",
       "       [ -1.74093095,  -4.89176978,   1.        ],\n",
       "       [  5.85943906,  -8.38192364,   0.        ],\n",
       "       [ -1.10955714,  -5.62713692,   1.        ],\n",
       "       [  0.24431303,  -6.01897701,   1.        ],\n",
       "       [  4.05619693,   5.32231077,   1.        ],\n",
       "       [  5.55912116, -10.06110303,   0.        ],\n",
       "       [  5.99156553,  -9.73238127,   0.        ],\n",
       "       [  4.46134719,  -8.55668693,   0.        ],\n",
       "       [ -1.05461272,  -5.34366793,   1.        ],\n",
       "       [  6.91094987, -10.6647659 ,   0.        ],\n",
       "       [  3.90917002,   7.44140273,   1.        ],\n",
       "       [  2.19518988,  -5.38688567,   1.        ],\n",
       "       [  3.44868458, -11.32833331,   0.        ],\n",
       "       [  6.55010412,  -7.9123388 ,   0.        ],\n",
       "       [ -0.07790108,  -5.98485443,   1.        ],\n",
       "       [  7.82111653,  -8.66750208,   0.        ],\n",
       "       [  2.62413419,   5.36941887,   1.        ],\n",
       "       [  0.48085466,  -5.08976945,   1.        ],\n",
       "       [  6.08664442,  -9.9358329 ,   0.        ],\n",
       "       [  5.06391368,  -9.7068667 ,   0.        ],\n",
       "       [  2.98771848,   7.44372871,   1.        ],\n",
       "       [  5.0772903 ,   4.23672091,   1.        ],\n",
       "       [ -1.15296379,  -5.89279504,   1.        ],\n",
       "       [  0.10327774,  -4.30132322,   1.        ],\n",
       "       [  1.13730861,  -6.0760439 ,   1.        ],\n",
       "       [  6.55519802, -10.28277104,   0.        ],\n",
       "       [  5.655043  ,  -9.1398234 ,   0.        ],\n",
       "       [  0.50402506,  -4.76009269,   1.        ],\n",
       "       [ -0.36296092,  -6.29545786,   1.        ],\n",
       "       [  0.3024902 ,  -4.36909392,   1.        ],\n",
       "       [  4.65804929,   6.7208918 ,   1.        ],\n",
       "       [  6.73488595,  -9.38994773,   0.        ],\n",
       "       [  2.36013594,   4.62719573,   1.        ],\n",
       "       [  2.23393846,   5.11718182,   1.        ],\n",
       "       [  0.21475477,  -5.68136591,   1.        ],\n",
       "       [  1.62783216,   4.17806883,   1.        ],\n",
       "       [  4.01289101,   5.00538736,   1.        ],\n",
       "       [  0.91264065,  -8.48366386,   1.        ],\n",
       "       [  5.15516488,  -8.97175683,   0.        ],\n",
       "       [  5.4307043 ,  -9.75956122,   0.        ],\n",
       "       [  5.74576929,  -9.12405811,   0.        ],\n",
       "       [  1.75005543,   5.44582908,   1.        ],\n",
       "       [  4.62182172,  -9.79765865,   0.        ],\n",
       "       [  3.38492372,   5.8943468 ,   1.        ],\n",
       "       [ -0.74265919,  -5.76492657,   1.        ],\n",
       "       [  2.19087156,   5.06566526,   1.        ],\n",
       "       [ -1.45074027,  -6.18301386,   1.        ],\n",
       "       [  5.08727262,  -9.27279108,   0.        ],\n",
       "       [  1.07026962,  -4.93971456,   1.        ],\n",
       "       [  0.4310287 ,  -4.84169308,   1.        ],\n",
       "       [  5.19423061, -10.08668991,   0.        ],\n",
       "       [  6.47259572, -11.00351704,   0.        ],\n",
       "       [  5.34529068, -10.11425709,   0.        ],\n",
       "       [  0.32361786,  -5.71134658,   1.        ],\n",
       "       [ -0.26686394,  -5.44678194,   1.        ],\n",
       "       [ -0.7369312 ,  -4.95740225,   1.        ],\n",
       "       [  2.79044036,   3.06862076,   1.        ],\n",
       "       [  4.48697951, -10.07429823,   0.        ],\n",
       "       [  6.2686376 ,  -9.38138022,   0.        ],\n",
       "       [  5.40050753,  -9.29586681,   0.        ]])"
      ]
     },
     "execution_count": 138,
     "metadata": {},
     "output_type": "execute_result"
    }
   ],
   "source": [
    "data"
   ]
  },
  {
   "cell_type": "code",
   "execution_count": 139,
   "metadata": {},
   "outputs": [],
   "source": [
    "curr_df = pd.DataFrame(data)\n",
    "curr_df.columns = [\"f0\",\"f1\",\"y\"]"
   ]
  },
  {
   "cell_type": "code",
   "execution_count": 140,
   "metadata": {},
   "outputs": [
    {
     "data": {
      "text/html": [
       "<div>\n",
       "<style scoped>\n",
       "    .dataframe tbody tr th:only-of-type {\n",
       "        vertical-align: middle;\n",
       "    }\n",
       "\n",
       "    .dataframe tbody tr th {\n",
       "        vertical-align: top;\n",
       "    }\n",
       "\n",
       "    .dataframe thead th {\n",
       "        text-align: right;\n",
       "    }\n",
       "</style>\n",
       "<table border=\"1\" class=\"dataframe\">\n",
       "  <thead>\n",
       "    <tr style=\"text-align: right;\">\n",
       "      <th></th>\n",
       "      <th>f0</th>\n",
       "      <th>f1</th>\n",
       "      <th>y</th>\n",
       "    </tr>\n",
       "  </thead>\n",
       "  <tbody>\n",
       "    <tr>\n",
       "      <th>0</th>\n",
       "      <td>-2.324963</td>\n",
       "      <td>-6.699996</td>\n",
       "      <td>1.0</td>\n",
       "    </tr>\n",
       "    <tr>\n",
       "      <th>1</th>\n",
       "      <td>0.518568</td>\n",
       "      <td>-4.900868</td>\n",
       "      <td>1.0</td>\n",
       "    </tr>\n",
       "    <tr>\n",
       "      <th>2</th>\n",
       "      <td>2.443018</td>\n",
       "      <td>3.846526</td>\n",
       "      <td>1.0</td>\n",
       "    </tr>\n",
       "    <tr>\n",
       "      <th>3</th>\n",
       "      <td>5.826623</td>\n",
       "      <td>-9.922593</td>\n",
       "      <td>0.0</td>\n",
       "    </tr>\n",
       "    <tr>\n",
       "      <th>4</th>\n",
       "      <td>2.033002</td>\n",
       "      <td>5.289908</td>\n",
       "      <td>1.0</td>\n",
       "    </tr>\n",
       "    <tr>\n",
       "      <th>...</th>\n",
       "      <td>...</td>\n",
       "      <td>...</td>\n",
       "      <td>...</td>\n",
       "    </tr>\n",
       "    <tr>\n",
       "      <th>95</th>\n",
       "      <td>-0.736931</td>\n",
       "      <td>-4.957402</td>\n",
       "      <td>1.0</td>\n",
       "    </tr>\n",
       "    <tr>\n",
       "      <th>96</th>\n",
       "      <td>2.790440</td>\n",
       "      <td>3.068621</td>\n",
       "      <td>1.0</td>\n",
       "    </tr>\n",
       "    <tr>\n",
       "      <th>97</th>\n",
       "      <td>4.486980</td>\n",
       "      <td>-10.074298</td>\n",
       "      <td>0.0</td>\n",
       "    </tr>\n",
       "    <tr>\n",
       "      <th>98</th>\n",
       "      <td>6.268638</td>\n",
       "      <td>-9.381380</td>\n",
       "      <td>0.0</td>\n",
       "    </tr>\n",
       "    <tr>\n",
       "      <th>99</th>\n",
       "      <td>5.400508</td>\n",
       "      <td>-9.295867</td>\n",
       "      <td>0.0</td>\n",
       "    </tr>\n",
       "  </tbody>\n",
       "</table>\n",
       "<p>100 rows × 3 columns</p>\n",
       "</div>"
      ],
      "text/plain": [
       "          f0         f1    y\n",
       "0  -2.324963  -6.699996  1.0\n",
       "1   0.518568  -4.900868  1.0\n",
       "2   2.443018   3.846526  1.0\n",
       "3   5.826623  -9.922593  0.0\n",
       "4   2.033002   5.289908  1.0\n",
       "..       ...        ...  ...\n",
       "95 -0.736931  -4.957402  1.0\n",
       "96  2.790440   3.068621  1.0\n",
       "97  4.486980 -10.074298  0.0\n",
       "98  6.268638  -9.381380  0.0\n",
       "99  5.400508  -9.295867  0.0\n",
       "\n",
       "[100 rows x 3 columns]"
      ]
     },
     "execution_count": 140,
     "metadata": {},
     "output_type": "execute_result"
    }
   ],
   "source": [
    "curr_df"
   ]
  },
  {
   "cell_type": "code",
   "execution_count": 141,
   "metadata": {},
   "outputs": [],
   "source": [
    "def get_entropy(vals):\n",
    "    p = np.mean(vals)\n",
    "    if p==0 or p==1:\n",
    "        return 0\n",
    "    return -p*np.log2(p) - (1-p)*np.log2(1-p)"
   ]
  },
  {
   "cell_type": "code",
   "execution_count": 142,
   "metadata": {},
   "outputs": [],
   "source": [
    "def get_entropy_from_split(df, feature, val):\n",
    "    left_types = df[df[feature] < val].y\n",
    "    right_types = df[df[feature] >= val].y\n",
    "    \n",
    "    left_entropy = get_entropy(left_types)\n",
    "    right_entropy = get_entropy(right_types)\n",
    "    \n",
    "    left_prop = len(left_types) / len(df)\n",
    "    right_prop = len(right_types) / len(df)\n",
    "    \n",
    "    return left_prop*left_entropy + right_prop*right_entropy"
   ]
  },
  {
   "cell_type": "code",
   "execution_count": 143,
   "metadata": {},
   "outputs": [
    {
     "name": "stdout",
     "output_type": "stream",
     "text": [
      "{'feature': 'f1', 'val': -7.128333308710893, 'entropy': 0.06551168990562285}\n"
     ]
    }
   ],
   "source": [
    "features = ['f0', 'f1']\n",
    "best_params = {'feature': None, 'val': None, 'entropy': np.inf}\n",
    "\n",
    "for f in features:\n",
    "    curr = curr_df[f].min()\n",
    "    step = 0.1\n",
    "    while curr < curr_df[f].max():\n",
    "        curr_entropy = get_entropy_from_split(curr_df, f, curr)\n",
    "        if curr_entropy < best_params['entropy']:\n",
    "            best_params['feature'] = f\n",
    "            best_params['val'] = curr\n",
    "            best_params['entropy'] = curr_entropy\n",
    "        curr += step\n",
    "print(best_params)"
   ]
  },
  {
   "cell_type": "code",
   "execution_count": null,
   "metadata": {},
   "outputs": [],
   "source": []
  },
  {
   "cell_type": "code",
   "execution_count": null,
   "metadata": {},
   "outputs": [],
   "source": []
  }
 ],
 "metadata": {
  "kernelspec": {
   "display_name": "Python 3",
   "language": "python",
   "name": "python3"
  },
  "language_info": {
   "codemirror_mode": {
    "name": "ipython",
    "version": 3
   },
   "file_extension": ".py",
   "mimetype": "text/x-python",
   "name": "python",
   "nbconvert_exporter": "python",
   "pygments_lexer": "ipython3",
   "version": "3.8.5"
  }
 },
 "nbformat": 4,
 "nbformat_minor": 4
}
