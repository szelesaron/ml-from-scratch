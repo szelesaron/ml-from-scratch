{
 "cells": [
  {
   "cell_type": "markdown",
   "metadata": {},
   "source": [
    "# Setup "
   ]
  },
  {
   "cell_type": "code",
   "execution_count": 2,
   "metadata": {},
   "outputs": [],
   "source": [
    "import numpy as np\n",
    "import matplotlib.pyplot as plt\n",
    "from sklearn import datasets"
   ]
  },
  {
   "cell_type": "code",
   "execution_count": 12,
   "metadata": {},
   "outputs": [],
   "source": [
    "X, y = datasets.make_blobs(random_state = 3) "
   ]
  },
  {
   "cell_type": "code",
   "execution_count": 21,
   "metadata": {},
   "outputs": [
    {
     "data": {
      "image/png": "[encoded data removed]",
      "text/plain": [
       "<Figure size 432x288 with 1 Axes>"
      ]
     },
     "metadata": {
      "needs_background": "light"
     },
     "output_type": "display_data"
    }
   ],
   "source": [
    "#this is an unsupervised algorithm, we dont really need to show the clusters' y value, but just for clarity\n",
    "plt.scatter(X[:,0], X[:,1], c = y)\n",
    "plt.show()"
   ]
  },
  {
   "cell_type": "markdown",
   "metadata": {},
   "source": [
    "# K-Means "
   ]
  },
  {
   "cell_type": "markdown",
   "metadata": {},
   "source": [
    "Centroids updated after getting all values closest to them, repeated until convergence."
   ]
  },
  {
   "cell_type": "code",
   "execution_count": 48,
   "metadata": {},
   "outputs": [],
   "source": [
    "c = 3\n",
    "centroids = [[0,0],\n",
    "            [7,1],\n",
    "            [-3,-1]]"
   ]
  },
  {
   "cell_type": "code",
   "execution_count": 52,
   "metadata": {},
   "outputs": [],
   "source": [
    "def euclidean(p1, p2):\n",
    "    return np.sqrt((p1[0] - p2[0])**2 + (p1[0] - p2[1])**2) "
   ]
  },
  {
   "cell_type": "code",
   "execution_count": 69,
   "metadata": {},
   "outputs": [],
   "source": [
    "cluster_elements = {0:[], 1:[], 2:[]}"
   ]
  },
  {
   "cell_type": "code",
   "execution_count": 72,
   "metadata": {},
   "outputs": [],
   "source": [
    "#check all points\n",
    "for i in range(len(X)):\n",
    "    #look for min value and cluster\n",
    "    min_distance = np.inf\n",
    "    cent_idx = -1\n",
    "    \n",
    "    #for every element check the distance to all existing centroids\n",
    "    for k in range(c):\n",
    "        distance = euclidean(X[i], centroids[k])\n",
    "        if distance < min_distance:\n",
    "            cent_idx = k\n",
    "            min_distance = distance\n",
    "    \n",
    "    #assigns element index to its closest cluster\n",
    "    cluster_elements.get(cent_idx).append(i)"
   ]
  },
  {
   "cell_type": "code",
   "execution_count": 73,
   "metadata": {
    "scrolled": true
   },
   "outputs": [
    {
     "data": {
      "text/plain": [
       "{0: [9,\n",
       "  14,\n",
       "  20,\n",
       "  21,\n",
       "  23,\n",
       "  27,\n",
       "  30,\n",
       "  31,\n",
       "  36,\n",
       "  37,\n",
       "  38,\n",
       "  42,\n",
       "  43,\n",
       "  46,\n",
       "  50,\n",
       "  58,\n",
       "  59,\n",
       "  60,\n",
       "  62,\n",
       "  63,\n",
       "  65,\n",
       "  68,\n",
       "  72,\n",
       "  74,\n",
       "  75,\n",
       "  77,\n",
       "  80,\n",
       "  81,\n",
       "  82,\n",
       "  83,\n",
       "  85,\n",
       "  88,\n",
       "  90,\n",
       "  97,\n",
       "  9,\n",
       "  14,\n",
       "  20,\n",
       "  21,\n",
       "  23,\n",
       "  27,\n",
       "  30,\n",
       "  31,\n",
       "  36,\n",
       "  37,\n",
       "  38,\n",
       "  42,\n",
       "  43,\n",
       "  46,\n",
       "  50,\n",
       "  58,\n",
       "  59,\n",
       "  60,\n",
       "  62,\n",
       "  63,\n",
       "  65,\n",
       "  68,\n",
       "  72,\n",
       "  74,\n",
       "  75,\n",
       "  77,\n",
       "  80,\n",
       "  81,\n",
       "  82,\n",
       "  83,\n",
       "  85,\n",
       "  88,\n",
       "  90,\n",
       "  97],\n",
       " 1: [0,\n",
       "  4,\n",
       "  7,\n",
       "  11,\n",
       "  12,\n",
       "  13,\n",
       "  16,\n",
       "  17,\n",
       "  25,\n",
       "  26,\n",
       "  29,\n",
       "  32,\n",
       "  34,\n",
       "  35,\n",
       "  39,\n",
       "  40,\n",
       "  41,\n",
       "  48,\n",
       "  51,\n",
       "  53,\n",
       "  55,\n",
       "  57,\n",
       "  66,\n",
       "  71,\n",
       "  78,\n",
       "  84,\n",
       "  87,\n",
       "  89,\n",
       "  91,\n",
       "  92,\n",
       "  94,\n",
       "  98,\n",
       "  99,\n",
       "  0,\n",
       "  4,\n",
       "  7,\n",
       "  11,\n",
       "  12,\n",
       "  13,\n",
       "  16,\n",
       "  17,\n",
       "  25,\n",
       "  26,\n",
       "  29,\n",
       "  32,\n",
       "  34,\n",
       "  35,\n",
       "  39,\n",
       "  40,\n",
       "  41,\n",
       "  48,\n",
       "  51,\n",
       "  53,\n",
       "  55,\n",
       "  57,\n",
       "  66,\n",
       "  71,\n",
       "  78,\n",
       "  84,\n",
       "  87,\n",
       "  89,\n",
       "  91,\n",
       "  92,\n",
       "  94,\n",
       "  98,\n",
       "  99],\n",
       " 2: [1,\n",
       "  2,\n",
       "  3,\n",
       "  5,\n",
       "  6,\n",
       "  8,\n",
       "  10,\n",
       "  15,\n",
       "  18,\n",
       "  19,\n",
       "  22,\n",
       "  24,\n",
       "  28,\n",
       "  33,\n",
       "  44,\n",
       "  45,\n",
       "  47,\n",
       "  49,\n",
       "  52,\n",
       "  54,\n",
       "  56,\n",
       "  61,\n",
       "  64,\n",
       "  67,\n",
       "  69,\n",
       "  70,\n",
       "  73,\n",
       "  76,\n",
       "  79,\n",
       "  86,\n",
       "  93,\n",
       "  95,\n",
       "  96,\n",
       "  1,\n",
       "  2,\n",
       "  3,\n",
       "  5,\n",
       "  6,\n",
       "  8,\n",
       "  10,\n",
       "  15,\n",
       "  18,\n",
       "  19,\n",
       "  22,\n",
       "  24,\n",
       "  28,\n",
       "  33,\n",
       "  44,\n",
       "  45,\n",
       "  47,\n",
       "  49,\n",
       "  52,\n",
       "  54,\n",
       "  56,\n",
       "  61,\n",
       "  64,\n",
       "  67,\n",
       "  69,\n",
       "  70,\n",
       "  73,\n",
       "  76,\n",
       "  79,\n",
       "  86,\n",
       "  93,\n",
       "  95,\n",
       "  96]}"
      ]
     },
     "execution_count": 73,
     "metadata": {},
     "output_type": "execute_result"
    }
   ],
   "source": [
    "cluster_elements"
   ]
  },
  {
   "cell_type": "code",
   "execution_count": null,
   "metadata": {},
   "outputs": [],
   "source": []
  }
 ],
 "metadata": {
  "kernelspec": {
   "display_name": "Python 3",
   "language": "python",
   "name": "python3"
  },
  "language_info": {
   "codemirror_mode": {
    "name": "ipython",
    "version": 3
   },
   "file_extension": ".py",
   "mimetype": "text/x-python",
   "name": "python",
   "nbconvert_exporter": "python",
   "pygments_lexer": "ipython3",
   "version": "3.8.5"
  }
 },
 "nbformat": 4,
 "nbformat_minor": 4
}
