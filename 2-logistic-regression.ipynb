{
 "cells": [
  {
   "cell_type": "markdown",
   "metadata": {},
   "source": [
    "# Setup "
   ]
  },
  {
   "cell_type": "code",
   "execution_count": 142,
   "metadata": {},
   "outputs": [],
   "source": [
    "import numpy as np\n",
    "import matplotlib.pyplot as plt\n",
    "from sklearn import datasets"
   ]
  },
  {
   "cell_type": "code",
   "execution_count": 143,
   "metadata": {},
   "outputs": [],
   "source": [
    "data = datasets.load_iris()\n",
    "X = data[\"data\"][:,3:]\n",
    "y = (data[\"target\"] == 2).astype(int)"
   ]
  },
  {
   "cell_type": "code",
   "execution_count": 144,
   "metadata": {
    "scrolled": true
   },
   "outputs": [
    {
     "data": {
      "image/png": "[encoded data removed]",
      "text/plain": [
       "<Figure size 432x288 with 1 Axes>"
      ]
     },
     "metadata": {
      "needs_background": "light"
     },
     "output_type": "display_data"
    }
   ],
   "source": [
    "plt.plot(X[y==0], y[y==0], \"bs\")\n",
    "plt.plot(X[y==1], y[y==1], \"g^\")\n",
    "plt.legend([\"Not iris virginica\",\"Iris virginica\"])\n",
    "plt.xlabel(\"Petal width  (cm)\")\n",
    "plt.title(\"Data to be used\")\n",
    "plt.show()"
   ]
  },
  {
   "cell_type": "markdown",
   "metadata": {},
   "source": [
    "# Logistic regression "
   ]
  },
  {
   "cell_type": "markdown",
   "metadata": {},
   "source": [
    "Trying to find a decision boundary that seperates the two classes best. For this we are going to use the logistic (sigmoid) function to estimate probabilities."
   ]
  },
  {
   "cell_type": "markdown",
   "metadata": {},
   "source": [
    "Sigmoid function\n",
    "\n",
    "$$\n",
    "\\sigma(z) = \\frac{1}{1+e^{(-z)}}\n",
    "$$\n",
    "\n",
    "Loss function\n",
    "\n",
    "$$\n",
    "L(\\theta) = - y^{(i)} \\log(\\sigma (\\theta^{T}x^{(i)})) - (1 - y^{(i)}) \\log (1 - (\\sigma (\\theta^{T}x^{(i)})))\n",
    "$$\n",
    "\n",
    "Cost function\n",
    "\n",
    "$$\n",
    "J(\\theta) = - \\frac{1}{m} \\sum_{i=1}^{i =m}[y^{(i)} \\log(\\sigma (\\theta^{T}x^{(i)})) + (1 - y^{(i)}) \\log (1 - (\\sigma (\\theta^{T}x^{(i)})))]\n",
    "$$\n",
    "\n",
    "Gradient descent\n",
    "\n",
    "$$\n",
    "\\theta^{next} = \\theta - \\alpha \\frac{\\partial}{\\partial \\theta} J(\\theta)\n",
    "$$\n"
   ]
  },
  {
   "cell_type": "code",
   "execution_count": 159,
   "metadata": {},
   "outputs": [],
   "source": [
    "def sigmoid(z):\n",
    "    return 1 / (1 + np.exp(-z)) "
   ]
  },
  {
   "cell_type": "code",
   "execution_count": 203,
   "metadata": {},
   "outputs": [],
   "source": [
    "w = [1.2]\n",
    "b = -5\n",
    "iterations = 10000\n",
    "alpha = 0.001\n",
    "m = len(X)\n",
    "J_hist = []\n",
    "\n",
    "#full algorithm\n",
    "for i in range(iterations):\n",
    "    error = sigmoid(np.dot(X, w) + b) - y\n",
    "\n",
    "    dj_dw = (1/m)*np.dot(X.T, error)\n",
    "    dj_db = (1/m)*np.sum(error)\n",
    "\n",
    "    # Update Parameters using w, b, alpha and gradient\n",
    "    w = w - alpha * dj_dw               \n",
    "    b = b - alpha * dj_db   \n",
    "\n",
    "    #calculate cost\n",
    "    total_cost = 0\n",
    "    for i in range(m):\n",
    "        f_w_b_i = sigmoid(np.dot(w, X[i])+ b)\n",
    "        total_cost += (-y[i] * np.log(f_w_b_i)) - (1 - y[i]) * np.log(1 - f_w_b_i)\n",
    "    total_cost /= m\n",
    "    J_hist.append(total_cost)"
   ]
  },
  {
   "cell_type": "code",
   "execution_count": 204,
   "metadata": {},
   "outputs": [
    {
     "data": {
      "image/png": "[encoded data removed]",
      "text/plain": [
       "<Figure size 432x288 with 1 Axes>"
      ]
     },
     "metadata": {
      "needs_background": "light"
     },
     "output_type": "display_data"
    },
    {
     "name": "stdout",
     "output_type": "stream",
     "text": [
      "Min loss: 0.25158291300284524\n"
     ]
    }
   ],
   "source": [
    "plt.plot(J_history)\n",
    "plt.xlabel(\"Epochs\")\n",
    "plt.ylabel(\"Loss\")\n",
    "plt.title(\"Training\")\n",
    "plt.show()\n",
    "\n",
    "print(f\"Min loss: {min(J_history)}\")"
   ]
  },
  {
   "cell_type": "code",
   "execution_count": 202,
   "metadata": {},
   "outputs": [
    {
     "data": {
      "text/plain": [
       "(array([2.76246473]), -4.481516498342659)"
      ]
     },
     "execution_count": 202,
     "metadata": {},
     "output_type": "execute_result"
    }
   ],
   "source": [
    "w,b"
   ]
  },
  {
   "cell_type": "code",
   "execution_count": null,
   "metadata": {},
   "outputs": [],
   "source": []
  }
 ],
 "metadata": {
  "kernelspec": {
   "display_name": "Python 3",
   "language": "python",
   "name": "python3"
  },
  "language_info": {
   "codemirror_mode": {
    "name": "ipython",
    "version": 3
   },
   "file_extension": ".py",
   "mimetype": "text/x-python",
   "name": "python",
   "nbconvert_exporter": "python",
   "pygments_lexer": "ipython3",
   "version": "3.8.5"
  }
 },
 "nbformat": 4,
 "nbformat_minor": 4
}
