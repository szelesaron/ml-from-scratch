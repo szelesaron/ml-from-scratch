{
 "cells": [
  {
   "cell_type": "markdown",
   "metadata": {},
   "source": [
    "# Setup "
   ]
  },
  {
   "cell_type": "code",
   "execution_count": 118,
   "metadata": {},
   "outputs": [],
   "source": [
    "import matplotlib.pyplot as plt\n",
    "import numpy as np\n",
    "%matplotlib inline"
   ]
  },
  {
   "cell_type": "code",
   "execution_count": 130,
   "metadata": {},
   "outputs": [],
   "source": [
    "X = np.random.rand(100,1)\n",
    "y = 10 + 3 *   X + np.random.rand(100,1)"
   ]
  },
  {
   "cell_type": "code",
   "execution_count": 131,
   "metadata": {},
   "outputs": [
    {
     "data": {
      "text/plain": [
       "Text(0.5, 1.0, 'Data points to be used in this notebook')"
      ]
     },
     "execution_count": 131,
     "metadata": {},
     "output_type": "execute_result"
    },
    {
     "data": {
      "image/png": "[encoded data removed]",
      "text/plain": [
       "<Figure size 432x288 with 1 Axes>"
      ]
     },
     "metadata": {
      "needs_background": "light"
     },
     "output_type": "display_data"
    }
   ],
   "source": [
    "plt.scatter(X,y)\n",
    "plt.title(\"Data points to be used in this notebook\")"
   ]
  },
  {
   "cell_type": "markdown",
   "metadata": {},
   "source": [
    "# Linear regression \"variants\""
   ]
  },
  {
   "cell_type": "markdown",
   "metadata": {},
   "source": [
    "In linear regression we are trying to fit the best line to the data. Polynomial regression will not be covered here. "
   ]
  },
  {
   "cell_type": "markdown",
   "metadata": {},
   "source": [
    "### 1. Normal Equation "
   ]
  },
  {
   "cell_type": "markdown",
   "metadata": {},
   "source": [
    "$$\n",
    "\\theta^{min} = (X^TX)^{-1}X^Ty \\\\\n",
    "$$"
   ]
  },
  {
   "cell_type": "code",
   "execution_count": 132,
   "metadata": {},
   "outputs": [],
   "source": [
    "X_b = np.c_[np.ones((len(X),1)), X] #need this so we can get \"b\" back - adds column of 1s to the left\n",
    "theta_min = np.linalg.inv(X_b.T.dot(X_b)).dot(X_b.T).dot(y)"
   ]
  },
  {
   "cell_type": "code",
   "execution_count": 133,
   "metadata": {},
   "outputs": [
    {
     "data": {
      "text/plain": [
       "array([[10.46810216],\n",
       "       [ 2.93321087]])"
      ]
     },
     "execution_count": 133,
     "metadata": {},
     "output_type": "execute_result"
    }
   ],
   "source": [
    "theta_min"
   ]
  },
  {
   "cell_type": "code",
   "execution_count": 134,
   "metadata": {},
   "outputs": [],
   "source": [
    "X_new = np.array([[0], [2]])\n",
    "X_new_b = np.c_[np.ones((2,1)), X_new]\n",
    "y_pred = X_new_b.dot(theta_min)"
   ]
  },
  {
   "cell_type": "code",
   "execution_count": 135,
   "metadata": {},
   "outputs": [
    {
     "data": {
      "text/plain": [
       "array([[10.46810216],\n",
       "       [16.33452391]])"
      ]
     },
     "execution_count": 135,
     "metadata": {},
     "output_type": "execute_result"
    }
   ],
   "source": [
    "y_pred"
   ]
  },
  {
   "cell_type": "code",
   "execution_count": 137,
   "metadata": {},
   "outputs": [
    {
     "data": {
      "image/png": "[encoded data removed]",
      "text/plain": [
       "<Figure size 432x288 with 1 Axes>"
      ]
     },
     "metadata": {
      "needs_background": "light"
     },
     "output_type": "display_data"
    }
   ],
   "source": [
    "plt.plot(X,y,\"b.\")\n",
    "plt.plot(X_new, y_pred, \"g-\")\n",
    "plt.axis([0, 1, 10, 15])\n",
    "plt.show()"
   ]
  },
  {
   "cell_type": "markdown",
   "metadata": {},
   "source": [
    "### 2.  Batch Gradient Descent "
   ]
  },
  {
   "cell_type": "markdown",
   "metadata": {},
   "source": [
    "The mean squared error is a convex function so using batch gradient descent will guarantee reaching the global minimum."
   ]
  },
  {
   "cell_type": "markdown",
   "metadata": {},
   "source": [
    "Mean squared error\n",
    "\n",
    "$$\n",
    "MSE = \\frac{1}{2m}\\sum_{i = 1}^{i = m}(y_{i}-y_{i}^{pred})^2 \\\\\n",
    "$$\n",
    "\n",
    "Cost function\n",
    "\n",
    "$$\n",
    "\\nabla_{\\theta}MSE(\\theta) = \\frac{\\partial}{\\partial \\theta_{0}}MSE(\\theta)...\\frac{\\partial}{\\partial \\theta_{m}}MSE(\\theta) = \\frac{2}{m}X^{T}(X\\theta-y)\\\\\n",
    "$$\n",
    "\n",
    "Step function\n",
    "\n",
    "$$\n",
    "\\theta^{next} = \\theta - \\alpha\\nabla_{\\theta}MSE(\\theta)\n",
    "$$"
   ]
  },
  {
   "cell_type": "code",
   "execution_count": 194,
   "metadata": {},
   "outputs": [],
   "source": [
    "alpha = 0.5\n",
    "theta = [[0],\n",
    "        [0]] #can be done, unlike in nerual networks\n",
    "iteration_count = 200\n",
    "X_b = np.c_[np.ones((len(X),1)), X]\n",
    "\n",
    "for i in range(iteration_count):\n",
    "    gradients = 2/len(X) * X_b.T.dot(X_b.dot(theta) - y)\n",
    "    theta = theta - alpha * gradients"
   ]
  },
  {
   "cell_type": "code",
   "execution_count": 195,
   "metadata": {},
   "outputs": [
    {
     "data": {
      "text/plain": [
       "array([[10.46809995],\n",
       "       [ 2.933215  ]])"
      ]
     },
     "execution_count": 195,
     "metadata": {},
     "output_type": "execute_result"
    }
   ],
   "source": [
    "theta"
   ]
  },
  {
   "cell_type": "code",
   "execution_count": 200,
   "metadata": {},
   "outputs": [
    {
     "data": {
      "image/png": "[encoded data removed]",
      "text/plain": [
       "<Figure size 432x288 with 1 Axes>"
      ]
     },
     "metadata": {
      "needs_background": "light"
     },
     "output_type": "display_data"
    }
   ],
   "source": [
    "X_new = np.array([[0], [2]])\n",
    "X_new_b = np.c_[np.ones((2,1)), X_new]\n",
    "y_pred = X_new_b.dot(theta)\n",
    "\n",
    "plt.plot(X,y,\"b.\")\n",
    "plt.plot(X_new, y_pred, \"g-\")\n",
    "plt.axis([0, 1, 10, 15])\n",
    "plt.title(f\"Alpha: {alpha} iterations: {iteration_count}\")\n",
    "plt.show()"
   ]
  }
 ],
 "metadata": {
  "kernelspec": {
   "display_name": "Python 3",
   "language": "python",
   "name": "python3"
  },
  "language_info": {
   "codemirror_mode": {
    "name": "ipython",
    "version": 3
   },
   "file_extension": ".py",
   "mimetype": "text/x-python",
   "name": "python",
   "nbconvert_exporter": "python",
   "pygments_lexer": "ipython3",
   "version": "3.8.5"
  }
 },
 "nbformat": 4,
 "nbformat_minor": 4
}
